{
 "cells": [
  {
   "cell_type": "code",
   "execution_count": 1,
   "metadata": {
    "collapsed": false
   },
   "outputs": [
    {
     "name": "stdout",
     "output_type": "stream",
     "text": [
      "[[1 2 3 4]\n",
      " [1 2 3 4]\n",
      " [1 2 3 4]]\n"
     ]
    }
   ],
   "source": [
    "import numpy as np\n",
    "\n",
    "A= np.array([[1,2,3,4],\n",
    "           [1,2,3,4],\n",
    "           [1,2,3,4]])\n",
    "print(A)"
   ]
  },
  {
   "cell_type": "code",
   "execution_count": 2,
   "metadata": {
    "collapsed": true
   },
   "outputs": [],
   "source": [
    "cal = A.sum(axis=0)\n",
    "# sum vertically"
   ]
  },
  {
   "cell_type": "code",
   "execution_count": 3,
   "metadata": {
    "collapsed": false
   },
   "outputs": [
    {
     "name": "stdout",
     "output_type": "stream",
     "text": [
      "[ 3  6  9 12]\n"
     ]
    }
   ],
   "source": [
    "print(cal)"
   ]
  },
  {
   "cell_type": "code",
   "execution_count": 5,
   "metadata": {
    "collapsed": false
   },
   "outputs": [
    {
     "name": "stdout",
     "output_type": "stream",
     "text": [
      "[[ 33.33333333  33.33333333  33.33333333  33.33333333]\n",
      " [ 33.33333333  33.33333333  33.33333333  33.33333333]\n",
      " [ 33.33333333  33.33333333  33.33333333  33.33333333]]\n"
     ]
    }
   ],
   "source": [
    "percentage = 100*A/cal.reshape(1,4)\n",
    "# reshape is very cheap to call\n",
    "# divide by 1 by 4 matrix\n",
    "print(percentage)\n",
    "\n",
    "#(3,4 )/(1,4)\n",
    "#eg [1,2,3,4] + 100 equal to [101, 102, 103, 104]\n",
    "# (2,n) + (1, n)\n",
    "#[[1,2,3],[4,5,6]] + [100, 200, 300]\n",
    "#(m,n) + (m,1)\n",
    "#[[1,2,3],[4,5,6]] + [[100],[200]]\n",
    "#[[1,2,3],[4,5,6]] + [[100,100,100],[200,200,200]]=[[101,102,103],[204,205,206]]\n"
   ]
  },
  {
   "cell_type": "code",
   "execution_count": 6,
   "metadata": {
    "collapsed": true
   },
   "outputs": [],
   "source": [
    "#general principle for broadcasting in python\n",
    "# (m,n)  +/-/*/divide (1,n) ->(m,n) copy by m times\n",
    "# (m,n)  +/-/*/divide (m,1) ->(m,n) copy by n times\n",
    "# (m,n)  +/-/*/divide R ->(m,n) copy by m, and n times"
   ]
  },
  {
   "cell_type": "code",
   "execution_count": null,
   "metadata": {
    "collapsed": true
   },
   "outputs": [],
   "source": [
    "#in matlab, bsxfun function has similar usage as broadcasting"
   ]
  }
 ],
 "metadata": {
  "kernelspec": {
   "display_name": "Python 3",
   "language": "python",
   "name": "python3"
  },
  "language_info": {
   "codemirror_mode": {
    "name": "ipython",
    "version": 3
   },
   "file_extension": ".py",
   "mimetype": "text/x-python",
   "name": "python",
   "nbconvert_exporter": "python",
   "pygments_lexer": "ipython3",
   "version": "3.5.2"
  }
 },
 "nbformat": 4,
 "nbformat_minor": 1
}
